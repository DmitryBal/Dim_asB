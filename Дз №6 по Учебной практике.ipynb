{
 "cells": [
  {
   "cell_type": "markdown",
   "metadata": {},
   "source": [
    "Тема №23 \"Употребление алкоголя учащимися\" - Балашов КМБО-03-20"
   ]
  },
  {
   "cell_type": "markdown",
   "metadata": {},
   "source": [
    "Устанавливаем необходимые библиотеки:"
   ]
  },
  {
   "cell_type": "code",
   "execution_count": 1,
   "metadata": {
    "scrolled": false
   },
   "outputs": [
    {
     "name": "stdout",
     "output_type": "stream",
     "text": [
      "Requirement already satisfied: pandas in c:\\users\\dimab\\anaconda3\\lib\\site-packages (1.0.5)\n",
      "Requirement already satisfied: python-dateutil>=2.6.1 in c:\\users\\dimab\\anaconda3\\lib\\site-packages (from pandas) (2.8.1)\n",
      "Requirement already satisfied: pytz>=2017.2 in c:\\users\\dimab\\anaconda3\\lib\\site-packages (from pandas) (2020.1)\n",
      "Requirement already satisfied: numpy>=1.13.3 in c:\\users\\dimab\\anaconda3\\lib\\site-packages (from pandas) (1.18.5)\n",
      "Requirement already satisfied: six>=1.5 in c:\\users\\dimab\\anaconda3\\lib\\site-packages (from python-dateutil>=2.6.1->pandas) (1.15.0)\n",
      "Requirement already satisfied: sklearn in c:\\users\\dimab\\anaconda3\\lib\\site-packages (0.0)\n",
      "Requirement already satisfied: scikit-learn in c:\\users\\dimab\\anaconda3\\lib\\site-packages (from sklearn) (0.23.1)\n",
      "Requirement already satisfied: numpy>=1.13.3 in c:\\users\\dimab\\anaconda3\\lib\\site-packages (from scikit-learn->sklearn) (1.18.5)\n",
      "Requirement already satisfied: scipy>=0.19.1 in c:\\users\\dimab\\anaconda3\\lib\\site-packages (from scikit-learn->sklearn) (1.5.0)\n",
      "Requirement already satisfied: threadpoolctl>=2.0.0 in c:\\users\\dimab\\anaconda3\\lib\\site-packages (from scikit-learn->sklearn) (2.1.0)\n",
      "Requirement already satisfied: joblib>=0.11 in c:\\users\\dimab\\anaconda3\\lib\\site-packages (from scikit-learn->sklearn) (0.16.0)\n",
      "Requirement already satisfied: statsmodels in c:\\users\\dimab\\anaconda3\\lib\\site-packages (0.11.1)\n",
      "Requirement already satisfied: numpy>=1.14 in c:\\users\\dimab\\anaconda3\\lib\\site-packages (from statsmodels) (1.18.5)\n",
      "Requirement already satisfied: scipy>=1.0 in c:\\users\\dimab\\anaconda3\\lib\\site-packages (from statsmodels) (1.5.0)\n",
      "Requirement already satisfied: pandas>=0.21 in c:\\users\\dimab\\anaconda3\\lib\\site-packages (from statsmodels) (1.0.5)\n",
      "Requirement already satisfied: patsy>=0.5 in c:\\users\\dimab\\anaconda3\\lib\\site-packages (from statsmodels) (0.5.1)\n",
      "Requirement already satisfied: pytz>=2017.2 in c:\\users\\dimab\\anaconda3\\lib\\site-packages (from pandas>=0.21->statsmodels) (2020.1)\n",
      "Requirement already satisfied: python-dateutil>=2.6.1 in c:\\users\\dimab\\anaconda3\\lib\\site-packages (from pandas>=0.21->statsmodels) (2.8.1)\n",
      "Requirement already satisfied: six in c:\\users\\dimab\\anaconda3\\lib\\site-packages (from patsy>=0.5->statsmodels) (1.15.0)\n"
     ]
    }
   ],
   "source": [
    "!pip install pandas\n",
    "!pip install sklearn\n",
    "!pip install statsmodels "
   ]
  },
  {
   "cell_type": "code",
   "execution_count": 2,
   "metadata": {},
   "outputs": [],
   "source": [
    "import pandas\n",
    "import numpy\n",
    "import math\n",
    "from sklearn.cluster import DBSCAN\n",
    "from sklearn.decomposition import PCA\n",
    "import matplotlib.cm \n",
    "from statsmodels.stats.outliers_influence import variance_inflation_factor\n",
    "import matplotlib.pyplot \n",
    "import statsmodels.api \n",
    "from sklearn.linear_model import LinearRegression\n",
    "from sklearn.model_selection import train_test_split\n",
    "import matplotlib as mpl\n",
    "import matplotlib.dates as mdates\n",
    "import datetime as dt\n",
    "import csv"
   ]
  },
  {
   "cell_type": "markdown",
   "metadata": {},
   "source": [
    "Считываем наборы данных:"
   ]
  },
  {
   "cell_type": "code",
   "execution_count": 3,
   "metadata": {},
   "outputs": [],
   "source": [
    "data1 = pandas.read_csv('student-por.csv')\n",
    "data2 = pandas.read_csv('student-mat.csv')\n",
    "Data = [data1, data1]\n",
    "Data = pandas.concat(Data)\n",
    "Data = data1.append(data2, ignore_index=True)"
   ]
  },
  {
   "cell_type": "code",
   "execution_count": 4,
   "metadata": {},
   "outputs": [
    {
     "data": {
      "text/html": [
       "<div>\n",
       "<style scoped>\n",
       "    .dataframe tbody tr th:only-of-type {\n",
       "        vertical-align: middle;\n",
       "    }\n",
       "\n",
       "    .dataframe tbody tr th {\n",
       "        vertical-align: top;\n",
       "    }\n",
       "\n",
       "    .dataframe thead th {\n",
       "        text-align: right;\n",
       "    }\n",
       "</style>\n",
       "<table border=\"1\" class=\"dataframe\">\n",
       "  <thead>\n",
       "    <tr style=\"text-align: right;\">\n",
       "      <th></th>\n",
       "      <th>school</th>\n",
       "      <th>sex</th>\n",
       "      <th>age</th>\n",
       "      <th>address</th>\n",
       "      <th>famsize</th>\n",
       "      <th>Pstatus</th>\n",
       "      <th>Medu</th>\n",
       "      <th>Fedu</th>\n",
       "      <th>Mjob</th>\n",
       "      <th>Fjob</th>\n",
       "      <th>...</th>\n",
       "      <th>famrel</th>\n",
       "      <th>freetime</th>\n",
       "      <th>goout</th>\n",
       "      <th>Dalc</th>\n",
       "      <th>Walc</th>\n",
       "      <th>health</th>\n",
       "      <th>absences</th>\n",
       "      <th>G1</th>\n",
       "      <th>G2</th>\n",
       "      <th>G3</th>\n",
       "    </tr>\n",
       "  </thead>\n",
       "  <tbody>\n",
       "    <tr>\n",
       "      <th>0</th>\n",
       "      <td>GP</td>\n",
       "      <td>F</td>\n",
       "      <td>18</td>\n",
       "      <td>U</td>\n",
       "      <td>GT3</td>\n",
       "      <td>A</td>\n",
       "      <td>4</td>\n",
       "      <td>4</td>\n",
       "      <td>at_home</td>\n",
       "      <td>teacher</td>\n",
       "      <td>...</td>\n",
       "      <td>4</td>\n",
       "      <td>3</td>\n",
       "      <td>4</td>\n",
       "      <td>1</td>\n",
       "      <td>1</td>\n",
       "      <td>3</td>\n",
       "      <td>4</td>\n",
       "      <td>0</td>\n",
       "      <td>11</td>\n",
       "      <td>11</td>\n",
       "    </tr>\n",
       "    <tr>\n",
       "      <th>1</th>\n",
       "      <td>GP</td>\n",
       "      <td>F</td>\n",
       "      <td>17</td>\n",
       "      <td>U</td>\n",
       "      <td>GT3</td>\n",
       "      <td>T</td>\n",
       "      <td>1</td>\n",
       "      <td>1</td>\n",
       "      <td>at_home</td>\n",
       "      <td>other</td>\n",
       "      <td>...</td>\n",
       "      <td>5</td>\n",
       "      <td>3</td>\n",
       "      <td>3</td>\n",
       "      <td>1</td>\n",
       "      <td>1</td>\n",
       "      <td>3</td>\n",
       "      <td>2</td>\n",
       "      <td>9</td>\n",
       "      <td>11</td>\n",
       "      <td>11</td>\n",
       "    </tr>\n",
       "    <tr>\n",
       "      <th>2</th>\n",
       "      <td>GP</td>\n",
       "      <td>F</td>\n",
       "      <td>15</td>\n",
       "      <td>U</td>\n",
       "      <td>LE3</td>\n",
       "      <td>T</td>\n",
       "      <td>1</td>\n",
       "      <td>1</td>\n",
       "      <td>at_home</td>\n",
       "      <td>other</td>\n",
       "      <td>...</td>\n",
       "      <td>4</td>\n",
       "      <td>3</td>\n",
       "      <td>2</td>\n",
       "      <td>2</td>\n",
       "      <td>3</td>\n",
       "      <td>3</td>\n",
       "      <td>6</td>\n",
       "      <td>12</td>\n",
       "      <td>13</td>\n",
       "      <td>12</td>\n",
       "    </tr>\n",
       "    <tr>\n",
       "      <th>3</th>\n",
       "      <td>GP</td>\n",
       "      <td>F</td>\n",
       "      <td>15</td>\n",
       "      <td>U</td>\n",
       "      <td>GT3</td>\n",
       "      <td>T</td>\n",
       "      <td>4</td>\n",
       "      <td>2</td>\n",
       "      <td>health</td>\n",
       "      <td>services</td>\n",
       "      <td>...</td>\n",
       "      <td>3</td>\n",
       "      <td>2</td>\n",
       "      <td>2</td>\n",
       "      <td>1</td>\n",
       "      <td>1</td>\n",
       "      <td>5</td>\n",
       "      <td>0</td>\n",
       "      <td>14</td>\n",
       "      <td>14</td>\n",
       "      <td>14</td>\n",
       "    </tr>\n",
       "    <tr>\n",
       "      <th>4</th>\n",
       "      <td>GP</td>\n",
       "      <td>F</td>\n",
       "      <td>16</td>\n",
       "      <td>U</td>\n",
       "      <td>GT3</td>\n",
       "      <td>T</td>\n",
       "      <td>3</td>\n",
       "      <td>3</td>\n",
       "      <td>other</td>\n",
       "      <td>other</td>\n",
       "      <td>...</td>\n",
       "      <td>4</td>\n",
       "      <td>3</td>\n",
       "      <td>2</td>\n",
       "      <td>1</td>\n",
       "      <td>2</td>\n",
       "      <td>5</td>\n",
       "      <td>0</td>\n",
       "      <td>11</td>\n",
       "      <td>13</td>\n",
       "      <td>13</td>\n",
       "    </tr>\n",
       "    <tr>\n",
       "      <th>...</th>\n",
       "      <td>...</td>\n",
       "      <td>...</td>\n",
       "      <td>...</td>\n",
       "      <td>...</td>\n",
       "      <td>...</td>\n",
       "      <td>...</td>\n",
       "      <td>...</td>\n",
       "      <td>...</td>\n",
       "      <td>...</td>\n",
       "      <td>...</td>\n",
       "      <td>...</td>\n",
       "      <td>...</td>\n",
       "      <td>...</td>\n",
       "      <td>...</td>\n",
       "      <td>...</td>\n",
       "      <td>...</td>\n",
       "      <td>...</td>\n",
       "      <td>...</td>\n",
       "      <td>...</td>\n",
       "      <td>...</td>\n",
       "      <td>...</td>\n",
       "    </tr>\n",
       "    <tr>\n",
       "      <th>1039</th>\n",
       "      <td>MS</td>\n",
       "      <td>M</td>\n",
       "      <td>20</td>\n",
       "      <td>U</td>\n",
       "      <td>LE3</td>\n",
       "      <td>A</td>\n",
       "      <td>2</td>\n",
       "      <td>2</td>\n",
       "      <td>services</td>\n",
       "      <td>services</td>\n",
       "      <td>...</td>\n",
       "      <td>5</td>\n",
       "      <td>5</td>\n",
       "      <td>4</td>\n",
       "      <td>4</td>\n",
       "      <td>5</td>\n",
       "      <td>4</td>\n",
       "      <td>11</td>\n",
       "      <td>9</td>\n",
       "      <td>9</td>\n",
       "      <td>9</td>\n",
       "    </tr>\n",
       "    <tr>\n",
       "      <th>1040</th>\n",
       "      <td>MS</td>\n",
       "      <td>M</td>\n",
       "      <td>17</td>\n",
       "      <td>U</td>\n",
       "      <td>LE3</td>\n",
       "      <td>T</td>\n",
       "      <td>3</td>\n",
       "      <td>1</td>\n",
       "      <td>services</td>\n",
       "      <td>services</td>\n",
       "      <td>...</td>\n",
       "      <td>2</td>\n",
       "      <td>4</td>\n",
       "      <td>5</td>\n",
       "      <td>3</td>\n",
       "      <td>4</td>\n",
       "      <td>2</td>\n",
       "      <td>3</td>\n",
       "      <td>14</td>\n",
       "      <td>16</td>\n",
       "      <td>16</td>\n",
       "    </tr>\n",
       "    <tr>\n",
       "      <th>1041</th>\n",
       "      <td>MS</td>\n",
       "      <td>M</td>\n",
       "      <td>21</td>\n",
       "      <td>R</td>\n",
       "      <td>GT3</td>\n",
       "      <td>T</td>\n",
       "      <td>1</td>\n",
       "      <td>1</td>\n",
       "      <td>other</td>\n",
       "      <td>other</td>\n",
       "      <td>...</td>\n",
       "      <td>5</td>\n",
       "      <td>5</td>\n",
       "      <td>3</td>\n",
       "      <td>3</td>\n",
       "      <td>3</td>\n",
       "      <td>3</td>\n",
       "      <td>3</td>\n",
       "      <td>10</td>\n",
       "      <td>8</td>\n",
       "      <td>7</td>\n",
       "    </tr>\n",
       "    <tr>\n",
       "      <th>1042</th>\n",
       "      <td>MS</td>\n",
       "      <td>M</td>\n",
       "      <td>18</td>\n",
       "      <td>R</td>\n",
       "      <td>LE3</td>\n",
       "      <td>T</td>\n",
       "      <td>3</td>\n",
       "      <td>2</td>\n",
       "      <td>services</td>\n",
       "      <td>other</td>\n",
       "      <td>...</td>\n",
       "      <td>4</td>\n",
       "      <td>4</td>\n",
       "      <td>1</td>\n",
       "      <td>3</td>\n",
       "      <td>4</td>\n",
       "      <td>5</td>\n",
       "      <td>0</td>\n",
       "      <td>11</td>\n",
       "      <td>12</td>\n",
       "      <td>10</td>\n",
       "    </tr>\n",
       "    <tr>\n",
       "      <th>1043</th>\n",
       "      <td>MS</td>\n",
       "      <td>M</td>\n",
       "      <td>19</td>\n",
       "      <td>U</td>\n",
       "      <td>LE3</td>\n",
       "      <td>T</td>\n",
       "      <td>1</td>\n",
       "      <td>1</td>\n",
       "      <td>other</td>\n",
       "      <td>at_home</td>\n",
       "      <td>...</td>\n",
       "      <td>3</td>\n",
       "      <td>2</td>\n",
       "      <td>3</td>\n",
       "      <td>3</td>\n",
       "      <td>3</td>\n",
       "      <td>5</td>\n",
       "      <td>5</td>\n",
       "      <td>8</td>\n",
       "      <td>9</td>\n",
       "      <td>9</td>\n",
       "    </tr>\n",
       "  </tbody>\n",
       "</table>\n",
       "<p>1044 rows × 33 columns</p>\n",
       "</div>"
      ],
      "text/plain": [
       "     school sex  age address famsize Pstatus  Medu  Fedu      Mjob      Fjob  \\\n",
       "0        GP   F   18       U     GT3       A     4     4   at_home   teacher   \n",
       "1        GP   F   17       U     GT3       T     1     1   at_home     other   \n",
       "2        GP   F   15       U     LE3       T     1     1   at_home     other   \n",
       "3        GP   F   15       U     GT3       T     4     2    health  services   \n",
       "4        GP   F   16       U     GT3       T     3     3     other     other   \n",
       "...     ...  ..  ...     ...     ...     ...   ...   ...       ...       ...   \n",
       "1039     MS   M   20       U     LE3       A     2     2  services  services   \n",
       "1040     MS   M   17       U     LE3       T     3     1  services  services   \n",
       "1041     MS   M   21       R     GT3       T     1     1     other     other   \n",
       "1042     MS   M   18       R     LE3       T     3     2  services     other   \n",
       "1043     MS   M   19       U     LE3       T     1     1     other   at_home   \n",
       "\n",
       "      ... famrel freetime  goout  Dalc  Walc health absences  G1  G2  G3  \n",
       "0     ...      4        3      4     1     1      3        4   0  11  11  \n",
       "1     ...      5        3      3     1     1      3        2   9  11  11  \n",
       "2     ...      4        3      2     2     3      3        6  12  13  12  \n",
       "3     ...      3        2      2     1     1      5        0  14  14  14  \n",
       "4     ...      4        3      2     1     2      5        0  11  13  13  \n",
       "...   ...    ...      ...    ...   ...   ...    ...      ...  ..  ..  ..  \n",
       "1039  ...      5        5      4     4     5      4       11   9   9   9  \n",
       "1040  ...      2        4      5     3     4      2        3  14  16  16  \n",
       "1041  ...      5        5      3     3     3      3        3  10   8   7  \n",
       "1042  ...      4        4      1     3     4      5        0  11  12  10  \n",
       "1043  ...      3        2      3     3     3      5        5   8   9   9  \n",
       "\n",
       "[1044 rows x 33 columns]"
      ]
     },
     "execution_count": 4,
     "metadata": {},
     "output_type": "execute_result"
    }
   ],
   "source": [
    "Data"
   ]
  },
  {
   "cell_type": "markdown",
   "metadata": {},
   "source": [
    "# 1. Построить прогноз итогового бала учащегося"
   ]
  },
  {
   "cell_type": "markdown",
   "metadata": {},
   "source": [
    "Преобразуем текстовые данные в числовые:"
   ]
  },
  {
   "cell_type": "code",
   "execution_count": 5,
   "metadata": {},
   "outputs": [],
   "source": [
    "arr = ['school', 'sex', 'address', 'famsize', 'Pstatus', 'Mjob', 'Fjob', 'reason', 'guardian', 'schoolsup', 'famsup', 'paid', 'activities', 'nursery', 'higher', 'internet', 'romantic']\n",
    "for column in arr:\n",
    "    Set = set(Data[column])\n",
    "    i = 0\n",
    "    for item in Set:\n",
    "        Data[column] = Data[column].replace(item, i)\n",
    "        i = i + 1\n",
    "    "
   ]
  },
  {
   "cell_type": "markdown",
   "metadata": {},
   "source": [
    "Нормируем признак для числовых признаков через стандартное отклонение:"
   ]
  },
  {
   "cell_type": "code",
   "execution_count": 6,
   "metadata": {},
   "outputs": [],
   "source": [
    "Data['age'] = (Data['age'] - Data['age'].mean())/(math.sqrt(Data['age'].var()))\n",
    "Data['absences'] = (Data['absences'] - Data['absences'].mean())/(math.sqrt(Data['absences'].var()))  \n",
    "Data['G1'] = (Data['G1'] - Data['G1'].mean())/(math.sqrt(Data['G1'].var())) \n",
    "Data['G2'] = (Data['G2'] - Data['G2'].mean())/(math.sqrt(Data['G2'].var())) \n",
    "Data['G3'] = (Data['G3'] - Data['G3'].mean())/(math.sqrt(Data['G3'].var())) "
   ]
  },
  {
   "cell_type": "markdown",
   "metadata": {},
   "source": [
    "Выделим целевой признак(G3) и удалим его из Датасета:"
   ]
  },
  {
   "cell_type": "code",
   "execution_count": 7,
   "metadata": {},
   "outputs": [],
   "source": [
    "Data2 = Data.G3\n",
    "train = Data.drop('G3', axis = 1)"
   ]
  },
  {
   "cell_type": "markdown",
   "metadata": {},
   "source": [
    " Проверим на наличие линейной зависимости между переменными\n",
    " \n",
    " Если коэффициент VIF > 10, то существует линейная зависимость:"
   ]
  },
  {
   "cell_type": "code",
   "execution_count": 8,
   "metadata": {
    "scrolled": true
   },
   "outputs": [
    {
     "data": {
      "text/html": [
       "<div>\n",
       "<style scoped>\n",
       "    .dataframe tbody tr th:only-of-type {\n",
       "        vertical-align: middle;\n",
       "    }\n",
       "\n",
       "    .dataframe tbody tr th {\n",
       "        vertical-align: top;\n",
       "    }\n",
       "\n",
       "    .dataframe thead th {\n",
       "        text-align: right;\n",
       "    }\n",
       "</style>\n",
       "<table border=\"1\" class=\"dataframe\">\n",
       "  <thead>\n",
       "    <tr style=\"text-align: right;\">\n",
       "      <th></th>\n",
       "      <th>column_name</th>\n",
       "      <th>VIF</th>\n",
       "    </tr>\n",
       "  </thead>\n",
       "  <tbody>\n",
       "    <tr>\n",
       "      <th>6</th>\n",
       "      <td>Medu</td>\n",
       "      <td>12.209937</td>\n",
       "    </tr>\n",
       "    <tr>\n",
       "      <th>7</th>\n",
       "      <td>Fedu</td>\n",
       "      <td>10.736939</td>\n",
       "    </tr>\n",
       "    <tr>\n",
       "      <th>20</th>\n",
       "      <td>higher</td>\n",
       "      <td>13.366069</td>\n",
       "    </tr>\n",
       "    <tr>\n",
       "      <th>23</th>\n",
       "      <td>famrel</td>\n",
       "      <td>17.343770</td>\n",
       "    </tr>\n",
       "    <tr>\n",
       "      <th>24</th>\n",
       "      <td>freetime</td>\n",
       "      <td>12.121061</td>\n",
       "    </tr>\n",
       "    <tr>\n",
       "      <th>25</th>\n",
       "      <td>goout</td>\n",
       "      <td>11.939263</td>\n",
       "    </tr>\n",
       "  </tbody>\n",
       "</table>\n",
       "</div>"
      ],
      "text/plain": [
       "   column_name        VIF\n",
       "6         Medu  12.209937\n",
       "7         Fedu  10.736939\n",
       "20      higher  13.366069\n",
       "23      famrel  17.343770\n",
       "24    freetime  12.121061\n",
       "25       goout  11.939263"
      ]
     },
     "execution_count": 8,
     "metadata": {},
     "output_type": "execute_result"
    }
   ],
   "source": [
    "vif = pandas.DataFrame()\n",
    "vif[\"column_name\"] = train.columns\n",
    "vif[\"VIF\"] = [variance_inflation_factor(train.values, i) for i in range(len(train.columns))]\n",
    "vif.loc[vif['VIF'] > 10.0]"
   ]
  },
  {
   "cell_type": "markdown",
   "metadata": {},
   "source": [
    "Будем избавляться от переменных с максимальным VIF, пока все VIF не окажутся меньше 10:"
   ]
  },
  {
   "cell_type": "code",
   "execution_count": 9,
   "metadata": {},
   "outputs": [
    {
     "name": "stdout",
     "output_type": "stream",
     "text": [
      "famrel\n",
      "higher\n",
      "Medu\n",
      "goout\n"
     ]
    },
    {
     "ename": "IndexError",
     "evalue": "index 0 is out of bounds for axis 0 with size 0",
     "output_type": "error",
     "traceback": [
      "\u001b[1;31m---------------------------------------------------------------------------\u001b[0m",
      "\u001b[1;31mIndexError\u001b[0m                                Traceback (most recent call last)",
      "\u001b[1;32m<ipython-input-9-0a742ff76cfb>\u001b[0m in \u001b[0;36m<module>\u001b[1;34m\u001b[0m\n\u001b[0;32m      5\u001b[0m     \u001b[0mvif\u001b[0m \u001b[1;33m=\u001b[0m \u001b[0mvif\u001b[0m\u001b[1;33m.\u001b[0m\u001b[0mloc\u001b[0m\u001b[1;33m[\u001b[0m\u001b[0mvif\u001b[0m\u001b[1;33m[\u001b[0m\u001b[1;34m'VIF'\u001b[0m\u001b[1;33m]\u001b[0m \u001b[1;33m>=\u001b[0m \u001b[1;36m10.0\u001b[0m\u001b[1;33m]\u001b[0m\u001b[1;33m\u001b[0m\u001b[1;33m\u001b[0m\u001b[0m\n\u001b[0;32m      6\u001b[0m     \u001b[0ma\u001b[0m \u001b[1;33m=\u001b[0m \u001b[0mvif\u001b[0m\u001b[1;33m[\u001b[0m\u001b[0mvif\u001b[0m\u001b[1;33m[\u001b[0m\u001b[1;34m\"VIF\"\u001b[0m\u001b[1;33m]\u001b[0m \u001b[1;33m==\u001b[0m \u001b[0mvif\u001b[0m\u001b[1;33m[\u001b[0m\u001b[1;34m\"VIF\"\u001b[0m\u001b[1;33m]\u001b[0m\u001b[1;33m.\u001b[0m\u001b[0mmax\u001b[0m\u001b[1;33m(\u001b[0m\u001b[1;33m)\u001b[0m\u001b[1;33m]\u001b[0m\u001b[1;33m[\u001b[0m\u001b[1;34m\"column_name\"\u001b[0m\u001b[1;33m]\u001b[0m\u001b[1;33m\u001b[0m\u001b[1;33m\u001b[0m\u001b[0m\n\u001b[1;32m----> 7\u001b[1;33m     \u001b[0mprint\u001b[0m\u001b[1;33m(\u001b[0m\u001b[0ma\u001b[0m\u001b[1;33m.\u001b[0m\u001b[0marray\u001b[0m\u001b[1;33m[\u001b[0m\u001b[1;36m0\u001b[0m\u001b[1;33m]\u001b[0m\u001b[1;33m)\u001b[0m\u001b[1;33m\u001b[0m\u001b[1;33m\u001b[0m\u001b[0m\n\u001b[0m\u001b[0;32m      8\u001b[0m     \u001b[0mtrain\u001b[0m \u001b[1;33m=\u001b[0m \u001b[0mtrain\u001b[0m\u001b[1;33m.\u001b[0m\u001b[0mdrop\u001b[0m\u001b[1;33m(\u001b[0m\u001b[0ma\u001b[0m\u001b[1;33m,\u001b[0m \u001b[0maxis\u001b[0m\u001b[1;33m=\u001b[0m\u001b[1;36m1\u001b[0m\u001b[1;33m)\u001b[0m\u001b[1;33m\u001b[0m\u001b[1;33m\u001b[0m\u001b[0m\n",
      "\u001b[1;32m~\\Anaconda3\\lib\\site-packages\\pandas\\core\\arrays\\numpy_.py\u001b[0m in \u001b[0;36m__getitem__\u001b[1;34m(self, item)\u001b[0m\n\u001b[0;32m    236\u001b[0m         \u001b[0mitem\u001b[0m \u001b[1;33m=\u001b[0m \u001b[0mcheck_array_indexer\u001b[0m\u001b[1;33m(\u001b[0m\u001b[0mself\u001b[0m\u001b[1;33m,\u001b[0m \u001b[0mitem\u001b[0m\u001b[1;33m)\u001b[0m\u001b[1;33m\u001b[0m\u001b[1;33m\u001b[0m\u001b[0m\n\u001b[0;32m    237\u001b[0m \u001b[1;33m\u001b[0m\u001b[0m\n\u001b[1;32m--> 238\u001b[1;33m         \u001b[0mresult\u001b[0m \u001b[1;33m=\u001b[0m \u001b[0mself\u001b[0m\u001b[1;33m.\u001b[0m\u001b[0m_ndarray\u001b[0m\u001b[1;33m[\u001b[0m\u001b[0mitem\u001b[0m\u001b[1;33m]\u001b[0m\u001b[1;33m\u001b[0m\u001b[1;33m\u001b[0m\u001b[0m\n\u001b[0m\u001b[0;32m    239\u001b[0m         \u001b[1;32mif\u001b[0m \u001b[1;32mnot\u001b[0m \u001b[0mlib\u001b[0m\u001b[1;33m.\u001b[0m\u001b[0mis_scalar\u001b[0m\u001b[1;33m(\u001b[0m\u001b[0mitem\u001b[0m\u001b[1;33m)\u001b[0m\u001b[1;33m:\u001b[0m\u001b[1;33m\u001b[0m\u001b[1;33m\u001b[0m\u001b[0m\n\u001b[0;32m    240\u001b[0m             \u001b[0mresult\u001b[0m \u001b[1;33m=\u001b[0m \u001b[0mtype\u001b[0m\u001b[1;33m(\u001b[0m\u001b[0mself\u001b[0m\u001b[1;33m)\u001b[0m\u001b[1;33m(\u001b[0m\u001b[0mresult\u001b[0m\u001b[1;33m)\u001b[0m\u001b[1;33m\u001b[0m\u001b[1;33m\u001b[0m\u001b[0m\n",
      "\u001b[1;31mIndexError\u001b[0m: index 0 is out of bounds for axis 0 with size 0"
     ]
    }
   ],
   "source": [
    "while not (vif.empty): \n",
    "    vif = pandas.DataFrame()\n",
    "    vif[\"column_name\"] = train.columns\n",
    "    vif[\"VIF\"] = [variance_inflation_factor(train.values, i) for i in range(len(train.columns))]\n",
    "    vif = vif.loc[vif['VIF'] >= 10.0]\n",
    "    a = vif[vif[\"VIF\"] == vif[\"VIF\"].max()][\"column_name\"]\n",
    "    print(a.array[0])\n",
    "    train = train.drop(a, axis=1)"
   ]
  },
  {
   "cell_type": "code",
   "execution_count": 10,
   "metadata": {},
   "outputs": [
    {
     "data": {
      "text/html": [
       "<div>\n",
       "<style scoped>\n",
       "    .dataframe tbody tr th:only-of-type {\n",
       "        vertical-align: middle;\n",
       "    }\n",
       "\n",
       "    .dataframe tbody tr th {\n",
       "        vertical-align: top;\n",
       "    }\n",
       "\n",
       "    .dataframe thead th {\n",
       "        text-align: right;\n",
       "    }\n",
       "</style>\n",
       "<table border=\"1\" class=\"dataframe\">\n",
       "  <thead>\n",
       "    <tr style=\"text-align: right;\">\n",
       "      <th></th>\n",
       "      <th>school</th>\n",
       "      <th>sex</th>\n",
       "      <th>age</th>\n",
       "      <th>address</th>\n",
       "      <th>famsize</th>\n",
       "      <th>Pstatus</th>\n",
       "      <th>Fedu</th>\n",
       "      <th>Mjob</th>\n",
       "      <th>Fjob</th>\n",
       "      <th>reason</th>\n",
       "      <th>...</th>\n",
       "      <th>nursery</th>\n",
       "      <th>internet</th>\n",
       "      <th>romantic</th>\n",
       "      <th>freetime</th>\n",
       "      <th>Dalc</th>\n",
       "      <th>Walc</th>\n",
       "      <th>health</th>\n",
       "      <th>absences</th>\n",
       "      <th>G1</th>\n",
       "      <th>G2</th>\n",
       "    </tr>\n",
       "  </thead>\n",
       "  <tbody>\n",
       "    <tr>\n",
       "      <th>0</th>\n",
       "      <td>0</td>\n",
       "      <td>1</td>\n",
       "      <td>1.027397</td>\n",
       "      <td>0</td>\n",
       "      <td>0</td>\n",
       "      <td>1</td>\n",
       "      <td>4</td>\n",
       "      <td>4</td>\n",
       "      <td>3</td>\n",
       "      <td>1</td>\n",
       "      <td>...</td>\n",
       "      <td>1</td>\n",
       "      <td>0</td>\n",
       "      <td>0</td>\n",
       "      <td>3</td>\n",
       "      <td>1</td>\n",
       "      <td>1</td>\n",
       "      <td>3</td>\n",
       "      <td>-0.070027</td>\n",
       "      <td>-3.758673</td>\n",
       "      <td>-0.074936</td>\n",
       "    </tr>\n",
       "    <tr>\n",
       "      <th>1</th>\n",
       "      <td>0</td>\n",
       "      <td>1</td>\n",
       "      <td>0.220929</td>\n",
       "      <td>0</td>\n",
       "      <td>0</td>\n",
       "      <td>0</td>\n",
       "      <td>1</td>\n",
       "      <td>4</td>\n",
       "      <td>0</td>\n",
       "      <td>1</td>\n",
       "      <td>...</td>\n",
       "      <td>0</td>\n",
       "      <td>1</td>\n",
       "      <td>0</td>\n",
       "      <td>3</td>\n",
       "      <td>1</td>\n",
       "      <td>1</td>\n",
       "      <td>3</td>\n",
       "      <td>-0.392087</td>\n",
       "      <td>-0.741974</td>\n",
       "      <td>-0.074936</td>\n",
       "    </tr>\n",
       "    <tr>\n",
       "      <th>2</th>\n",
       "      <td>0</td>\n",
       "      <td>1</td>\n",
       "      <td>-1.392007</td>\n",
       "      <td>0</td>\n",
       "      <td>1</td>\n",
       "      <td>0</td>\n",
       "      <td>1</td>\n",
       "      <td>4</td>\n",
       "      <td>0</td>\n",
       "      <td>0</td>\n",
       "      <td>...</td>\n",
       "      <td>1</td>\n",
       "      <td>1</td>\n",
       "      <td>0</td>\n",
       "      <td>3</td>\n",
       "      <td>2</td>\n",
       "      <td>3</td>\n",
       "      <td>3</td>\n",
       "      <td>0.252034</td>\n",
       "      <td>0.263592</td>\n",
       "      <td>0.533879</td>\n",
       "    </tr>\n",
       "    <tr>\n",
       "      <th>3</th>\n",
       "      <td>0</td>\n",
       "      <td>1</td>\n",
       "      <td>-1.392007</td>\n",
       "      <td>0</td>\n",
       "      <td>0</td>\n",
       "      <td>0</td>\n",
       "      <td>2</td>\n",
       "      <td>2</td>\n",
       "      <td>1</td>\n",
       "      <td>3</td>\n",
       "      <td>...</td>\n",
       "      <td>1</td>\n",
       "      <td>1</td>\n",
       "      <td>1</td>\n",
       "      <td>2</td>\n",
       "      <td>1</td>\n",
       "      <td>1</td>\n",
       "      <td>5</td>\n",
       "      <td>-0.714147</td>\n",
       "      <td>0.933969</td>\n",
       "      <td>0.838287</td>\n",
       "    </tr>\n",
       "    <tr>\n",
       "      <th>4</th>\n",
       "      <td>0</td>\n",
       "      <td>1</td>\n",
       "      <td>-0.585539</td>\n",
       "      <td>0</td>\n",
       "      <td>0</td>\n",
       "      <td>0</td>\n",
       "      <td>3</td>\n",
       "      <td>0</td>\n",
       "      <td>0</td>\n",
       "      <td>3</td>\n",
       "      <td>...</td>\n",
       "      <td>1</td>\n",
       "      <td>0</td>\n",
       "      <td>0</td>\n",
       "      <td>3</td>\n",
       "      <td>1</td>\n",
       "      <td>2</td>\n",
       "      <td>5</td>\n",
       "      <td>-0.714147</td>\n",
       "      <td>-0.071597</td>\n",
       "      <td>0.533879</td>\n",
       "    </tr>\n",
       "    <tr>\n",
       "      <th>...</th>\n",
       "      <td>...</td>\n",
       "      <td>...</td>\n",
       "      <td>...</td>\n",
       "      <td>...</td>\n",
       "      <td>...</td>\n",
       "      <td>...</td>\n",
       "      <td>...</td>\n",
       "      <td>...</td>\n",
       "      <td>...</td>\n",
       "      <td>...</td>\n",
       "      <td>...</td>\n",
       "      <td>...</td>\n",
       "      <td>...</td>\n",
       "      <td>...</td>\n",
       "      <td>...</td>\n",
       "      <td>...</td>\n",
       "      <td>...</td>\n",
       "      <td>...</td>\n",
       "      <td>...</td>\n",
       "      <td>...</td>\n",
       "      <td>...</td>\n",
       "    </tr>\n",
       "    <tr>\n",
       "      <th>1039</th>\n",
       "      <td>1</td>\n",
       "      <td>0</td>\n",
       "      <td>2.640333</td>\n",
       "      <td>0</td>\n",
       "      <td>1</td>\n",
       "      <td>1</td>\n",
       "      <td>2</td>\n",
       "      <td>1</td>\n",
       "      <td>1</td>\n",
       "      <td>1</td>\n",
       "      <td>...</td>\n",
       "      <td>1</td>\n",
       "      <td>0</td>\n",
       "      <td>0</td>\n",
       "      <td>5</td>\n",
       "      <td>4</td>\n",
       "      <td>5</td>\n",
       "      <td>4</td>\n",
       "      <td>1.057185</td>\n",
       "      <td>-0.741974</td>\n",
       "      <td>-0.683750</td>\n",
       "    </tr>\n",
       "    <tr>\n",
       "      <th>1040</th>\n",
       "      <td>1</td>\n",
       "      <td>0</td>\n",
       "      <td>0.220929</td>\n",
       "      <td>0</td>\n",
       "      <td>1</td>\n",
       "      <td>0</td>\n",
       "      <td>1</td>\n",
       "      <td>1</td>\n",
       "      <td>1</td>\n",
       "      <td>1</td>\n",
       "      <td>...</td>\n",
       "      <td>0</td>\n",
       "      <td>1</td>\n",
       "      <td>0</td>\n",
       "      <td>4</td>\n",
       "      <td>3</td>\n",
       "      <td>4</td>\n",
       "      <td>2</td>\n",
       "      <td>-0.231057</td>\n",
       "      <td>0.933969</td>\n",
       "      <td>1.447102</td>\n",
       "    </tr>\n",
       "    <tr>\n",
       "      <th>1041</th>\n",
       "      <td>1</td>\n",
       "      <td>0</td>\n",
       "      <td>3.446801</td>\n",
       "      <td>1</td>\n",
       "      <td>0</td>\n",
       "      <td>0</td>\n",
       "      <td>1</td>\n",
       "      <td>0</td>\n",
       "      <td>0</td>\n",
       "      <td>1</td>\n",
       "      <td>...</td>\n",
       "      <td>0</td>\n",
       "      <td>0</td>\n",
       "      <td>0</td>\n",
       "      <td>5</td>\n",
       "      <td>3</td>\n",
       "      <td>3</td>\n",
       "      <td>3</td>\n",
       "      <td>-0.231057</td>\n",
       "      <td>-0.406786</td>\n",
       "      <td>-0.988158</td>\n",
       "    </tr>\n",
       "    <tr>\n",
       "      <th>1042</th>\n",
       "      <td>1</td>\n",
       "      <td>0</td>\n",
       "      <td>1.027397</td>\n",
       "      <td>1</td>\n",
       "      <td>1</td>\n",
       "      <td>0</td>\n",
       "      <td>2</td>\n",
       "      <td>1</td>\n",
       "      <td>0</td>\n",
       "      <td>1</td>\n",
       "      <td>...</td>\n",
       "      <td>0</td>\n",
       "      <td>1</td>\n",
       "      <td>0</td>\n",
       "      <td>4</td>\n",
       "      <td>3</td>\n",
       "      <td>4</td>\n",
       "      <td>5</td>\n",
       "      <td>-0.714147</td>\n",
       "      <td>-0.071597</td>\n",
       "      <td>0.229472</td>\n",
       "    </tr>\n",
       "    <tr>\n",
       "      <th>1043</th>\n",
       "      <td>1</td>\n",
       "      <td>0</td>\n",
       "      <td>1.833865</td>\n",
       "      <td>0</td>\n",
       "      <td>1</td>\n",
       "      <td>0</td>\n",
       "      <td>1</td>\n",
       "      <td>0</td>\n",
       "      <td>4</td>\n",
       "      <td>1</td>\n",
       "      <td>...</td>\n",
       "      <td>1</td>\n",
       "      <td>1</td>\n",
       "      <td>0</td>\n",
       "      <td>2</td>\n",
       "      <td>3</td>\n",
       "      <td>3</td>\n",
       "      <td>5</td>\n",
       "      <td>0.091004</td>\n",
       "      <td>-1.077163</td>\n",
       "      <td>-0.683750</td>\n",
       "    </tr>\n",
       "  </tbody>\n",
       "</table>\n",
       "<p>1044 rows × 28 columns</p>\n",
       "</div>"
      ],
      "text/plain": [
       "      school  sex       age  address  famsize  Pstatus  Fedu  Mjob  Fjob  \\\n",
       "0          0    1  1.027397        0        0        1     4     4     3   \n",
       "1          0    1  0.220929        0        0        0     1     4     0   \n",
       "2          0    1 -1.392007        0        1        0     1     4     0   \n",
       "3          0    1 -1.392007        0        0        0     2     2     1   \n",
       "4          0    1 -0.585539        0        0        0     3     0     0   \n",
       "...      ...  ...       ...      ...      ...      ...   ...   ...   ...   \n",
       "1039       1    0  2.640333        0        1        1     2     1     1   \n",
       "1040       1    0  0.220929        0        1        0     1     1     1   \n",
       "1041       1    0  3.446801        1        0        0     1     0     0   \n",
       "1042       1    0  1.027397        1        1        0     2     1     0   \n",
       "1043       1    0  1.833865        0        1        0     1     0     4   \n",
       "\n",
       "      reason  ...  nursery  internet  romantic  freetime  Dalc  Walc  health  \\\n",
       "0          1  ...        1         0         0         3     1     1       3   \n",
       "1          1  ...        0         1         0         3     1     1       3   \n",
       "2          0  ...        1         1         0         3     2     3       3   \n",
       "3          3  ...        1         1         1         2     1     1       5   \n",
       "4          3  ...        1         0         0         3     1     2       5   \n",
       "...      ...  ...      ...       ...       ...       ...   ...   ...     ...   \n",
       "1039       1  ...        1         0         0         5     4     5       4   \n",
       "1040       1  ...        0         1         0         4     3     4       2   \n",
       "1041       1  ...        0         0         0         5     3     3       3   \n",
       "1042       1  ...        0         1         0         4     3     4       5   \n",
       "1043       1  ...        1         1         0         2     3     3       5   \n",
       "\n",
       "      absences        G1        G2  \n",
       "0    -0.070027 -3.758673 -0.074936  \n",
       "1    -0.392087 -0.741974 -0.074936  \n",
       "2     0.252034  0.263592  0.533879  \n",
       "3    -0.714147  0.933969  0.838287  \n",
       "4    -0.714147 -0.071597  0.533879  \n",
       "...        ...       ...       ...  \n",
       "1039  1.057185 -0.741974 -0.683750  \n",
       "1040 -0.231057  0.933969  1.447102  \n",
       "1041 -0.231057 -0.406786 -0.988158  \n",
       "1042 -0.714147 -0.071597  0.229472  \n",
       "1043  0.091004 -1.077163 -0.683750  \n",
       "\n",
       "[1044 rows x 28 columns]"
      ]
     },
     "execution_count": 10,
     "metadata": {},
     "output_type": "execute_result"
    }
   ],
   "source": [
    "train"
   ]
  },
  {
   "cell_type": "markdown",
   "metadata": {},
   "source": [
    "Разделяем данные на обучающую и тестовую выборку:"
   ]
  },
  {
   "cell_type": "code",
   "execution_count": 11,
   "metadata": {},
   "outputs": [
    {
     "data": {
      "text/plain": [
       "(1044, 28)"
      ]
     },
     "execution_count": 11,
     "metadata": {},
     "output_type": "execute_result"
    }
   ],
   "source": [
    "X_train, X_test, Y_train, Y_test = train_test_split(train,Data2, test_size = 0.3, random_state = 42)\n",
    "train.shape"
   ]
  },
  {
   "cell_type": "code",
   "execution_count": 12,
   "metadata": {},
   "outputs": [
    {
     "data": {
      "text/html": [
       "<div>\n",
       "<style scoped>\n",
       "    .dataframe tbody tr th:only-of-type {\n",
       "        vertical-align: middle;\n",
       "    }\n",
       "\n",
       "    .dataframe tbody tr th {\n",
       "        vertical-align: top;\n",
       "    }\n",
       "\n",
       "    .dataframe thead th {\n",
       "        text-align: right;\n",
       "    }\n",
       "</style>\n",
       "<table border=\"1\" class=\"dataframe\">\n",
       "  <thead>\n",
       "    <tr style=\"text-align: right;\">\n",
       "      <th></th>\n",
       "      <th>school</th>\n",
       "      <th>sex</th>\n",
       "      <th>age</th>\n",
       "      <th>address</th>\n",
       "      <th>famsize</th>\n",
       "      <th>Pstatus</th>\n",
       "      <th>Fedu</th>\n",
       "      <th>Mjob</th>\n",
       "      <th>Fjob</th>\n",
       "      <th>reason</th>\n",
       "      <th>...</th>\n",
       "      <th>nursery</th>\n",
       "      <th>internet</th>\n",
       "      <th>romantic</th>\n",
       "      <th>freetime</th>\n",
       "      <th>Dalc</th>\n",
       "      <th>Walc</th>\n",
       "      <th>health</th>\n",
       "      <th>absences</th>\n",
       "      <th>G1</th>\n",
       "      <th>G2</th>\n",
       "    </tr>\n",
       "  </thead>\n",
       "  <tbody>\n",
       "    <tr>\n",
       "      <th>447</th>\n",
       "      <td>1</td>\n",
       "      <td>0</td>\n",
       "      <td>0.220929</td>\n",
       "      <td>1</td>\n",
       "      <td>0</td>\n",
       "      <td>0</td>\n",
       "      <td>1</td>\n",
       "      <td>0</td>\n",
       "      <td>0</td>\n",
       "      <td>0</td>\n",
       "      <td>...</td>\n",
       "      <td>1</td>\n",
       "      <td>0</td>\n",
       "      <td>1</td>\n",
       "      <td>5</td>\n",
       "      <td>5</td>\n",
       "      <td>5</td>\n",
       "      <td>3</td>\n",
       "      <td>0.574094</td>\n",
       "      <td>-1.077163</td>\n",
       "      <td>-0.379343</td>\n",
       "    </tr>\n",
       "    <tr>\n",
       "      <th>694</th>\n",
       "      <td>0</td>\n",
       "      <td>1</td>\n",
       "      <td>-1.392007</td>\n",
       "      <td>0</td>\n",
       "      <td>1</td>\n",
       "      <td>1</td>\n",
       "      <td>3</td>\n",
       "      <td>0</td>\n",
       "      <td>0</td>\n",
       "      <td>1</td>\n",
       "      <td>...</td>\n",
       "      <td>1</td>\n",
       "      <td>1</td>\n",
       "      <td>1</td>\n",
       "      <td>2</td>\n",
       "      <td>1</td>\n",
       "      <td>1</td>\n",
       "      <td>5</td>\n",
       "      <td>0.574094</td>\n",
       "      <td>-1.077163</td>\n",
       "      <td>-0.988158</td>\n",
       "    </tr>\n",
       "    <tr>\n",
       "      <th>448</th>\n",
       "      <td>1</td>\n",
       "      <td>1</td>\n",
       "      <td>-0.585539</td>\n",
       "      <td>1</td>\n",
       "      <td>0</td>\n",
       "      <td>0</td>\n",
       "      <td>4</td>\n",
       "      <td>3</td>\n",
       "      <td>3</td>\n",
       "      <td>1</td>\n",
       "      <td>...</td>\n",
       "      <td>1</td>\n",
       "      <td>1</td>\n",
       "      <td>1</td>\n",
       "      <td>2</td>\n",
       "      <td>1</td>\n",
       "      <td>1</td>\n",
       "      <td>4</td>\n",
       "      <td>0.252034</td>\n",
       "      <td>1.604347</td>\n",
       "      <td>1.447102</td>\n",
       "    </tr>\n",
       "    <tr>\n",
       "      <th>934</th>\n",
       "      <td>0</td>\n",
       "      <td>0</td>\n",
       "      <td>0.220929</td>\n",
       "      <td>0</td>\n",
       "      <td>0</td>\n",
       "      <td>0</td>\n",
       "      <td>1</td>\n",
       "      <td>0</td>\n",
       "      <td>0</td>\n",
       "      <td>2</td>\n",
       "      <td>...</td>\n",
       "      <td>0</td>\n",
       "      <td>1</td>\n",
       "      <td>0</td>\n",
       "      <td>3</td>\n",
       "      <td>1</td>\n",
       "      <td>2</td>\n",
       "      <td>4</td>\n",
       "      <td>-0.392087</td>\n",
       "      <td>0.263592</td>\n",
       "      <td>-0.379343</td>\n",
       "    </tr>\n",
       "    <tr>\n",
       "      <th>582</th>\n",
       "      <td>1</td>\n",
       "      <td>1</td>\n",
       "      <td>1.833865</td>\n",
       "      <td>0</td>\n",
       "      <td>1</td>\n",
       "      <td>1</td>\n",
       "      <td>1</td>\n",
       "      <td>4</td>\n",
       "      <td>0</td>\n",
       "      <td>1</td>\n",
       "      <td>...</td>\n",
       "      <td>1</td>\n",
       "      <td>0</td>\n",
       "      <td>0</td>\n",
       "      <td>4</td>\n",
       "      <td>1</td>\n",
       "      <td>1</td>\n",
       "      <td>5</td>\n",
       "      <td>-0.714147</td>\n",
       "      <td>-1.747540</td>\n",
       "      <td>-0.988158</td>\n",
       "    </tr>\n",
       "    <tr>\n",
       "      <th>...</th>\n",
       "      <td>...</td>\n",
       "      <td>...</td>\n",
       "      <td>...</td>\n",
       "      <td>...</td>\n",
       "      <td>...</td>\n",
       "      <td>...</td>\n",
       "      <td>...</td>\n",
       "      <td>...</td>\n",
       "      <td>...</td>\n",
       "      <td>...</td>\n",
       "      <td>...</td>\n",
       "      <td>...</td>\n",
       "      <td>...</td>\n",
       "      <td>...</td>\n",
       "      <td>...</td>\n",
       "      <td>...</td>\n",
       "      <td>...</td>\n",
       "      <td>...</td>\n",
       "      <td>...</td>\n",
       "      <td>...</td>\n",
       "      <td>...</td>\n",
       "    </tr>\n",
       "    <tr>\n",
       "      <th>87</th>\n",
       "      <td>0</td>\n",
       "      <td>1</td>\n",
       "      <td>-1.392007</td>\n",
       "      <td>0</td>\n",
       "      <td>0</td>\n",
       "      <td>0</td>\n",
       "      <td>2</td>\n",
       "      <td>0</td>\n",
       "      <td>0</td>\n",
       "      <td>2</td>\n",
       "      <td>...</td>\n",
       "      <td>1</td>\n",
       "      <td>1</td>\n",
       "      <td>0</td>\n",
       "      <td>3</td>\n",
       "      <td>1</td>\n",
       "      <td>3</td>\n",
       "      <td>1</td>\n",
       "      <td>-0.070027</td>\n",
       "      <td>1.269158</td>\n",
       "      <td>1.142694</td>\n",
       "    </tr>\n",
       "    <tr>\n",
       "      <th>330</th>\n",
       "      <td>0</td>\n",
       "      <td>1</td>\n",
       "      <td>1.027397</td>\n",
       "      <td>0</td>\n",
       "      <td>0</td>\n",
       "      <td>0</td>\n",
       "      <td>1</td>\n",
       "      <td>0</td>\n",
       "      <td>0</td>\n",
       "      <td>2</td>\n",
       "      <td>...</td>\n",
       "      <td>1</td>\n",
       "      <td>1</td>\n",
       "      <td>1</td>\n",
       "      <td>3</td>\n",
       "      <td>1</td>\n",
       "      <td>1</td>\n",
       "      <td>5</td>\n",
       "      <td>0.896154</td>\n",
       "      <td>0.263592</td>\n",
       "      <td>0.533879</td>\n",
       "    </tr>\n",
       "    <tr>\n",
       "      <th>466</th>\n",
       "      <td>1</td>\n",
       "      <td>0</td>\n",
       "      <td>-1.392007</td>\n",
       "      <td>0</td>\n",
       "      <td>0</td>\n",
       "      <td>0</td>\n",
       "      <td>1</td>\n",
       "      <td>0</td>\n",
       "      <td>1</td>\n",
       "      <td>3</td>\n",
       "      <td>...</td>\n",
       "      <td>1</td>\n",
       "      <td>0</td>\n",
       "      <td>0</td>\n",
       "      <td>2</td>\n",
       "      <td>1</td>\n",
       "      <td>3</td>\n",
       "      <td>4</td>\n",
       "      <td>-0.714147</td>\n",
       "      <td>-0.406786</td>\n",
       "      <td>-0.683750</td>\n",
       "    </tr>\n",
       "    <tr>\n",
       "      <th>121</th>\n",
       "      <td>0</td>\n",
       "      <td>0</td>\n",
       "      <td>-1.392007</td>\n",
       "      <td>0</td>\n",
       "      <td>0</td>\n",
       "      <td>0</td>\n",
       "      <td>2</td>\n",
       "      <td>1</td>\n",
       "      <td>1</td>\n",
       "      <td>3</td>\n",
       "      <td>...</td>\n",
       "      <td>1</td>\n",
       "      <td>1</td>\n",
       "      <td>0</td>\n",
       "      <td>5</td>\n",
       "      <td>1</td>\n",
       "      <td>2</td>\n",
       "      <td>5</td>\n",
       "      <td>0.252034</td>\n",
       "      <td>0.933969</td>\n",
       "      <td>0.533879</td>\n",
       "    </tr>\n",
       "    <tr>\n",
       "      <th>860</th>\n",
       "      <td>0</td>\n",
       "      <td>0</td>\n",
       "      <td>0.220929</td>\n",
       "      <td>0</td>\n",
       "      <td>1</td>\n",
       "      <td>0</td>\n",
       "      <td>4</td>\n",
       "      <td>1</td>\n",
       "      <td>0</td>\n",
       "      <td>3</td>\n",
       "      <td>...</td>\n",
       "      <td>1</td>\n",
       "      <td>1</td>\n",
       "      <td>1</td>\n",
       "      <td>3</td>\n",
       "      <td>4</td>\n",
       "      <td>5</td>\n",
       "      <td>3</td>\n",
       "      <td>1.379245</td>\n",
       "      <td>0.263592</td>\n",
       "      <td>0.229472</td>\n",
       "    </tr>\n",
       "  </tbody>\n",
       "</table>\n",
       "<p>730 rows × 28 columns</p>\n",
       "</div>"
      ],
      "text/plain": [
       "     school  sex       age  address  famsize  Pstatus  Fedu  Mjob  Fjob  \\\n",
       "447       1    0  0.220929        1        0        0     1     0     0   \n",
       "694       0    1 -1.392007        0        1        1     3     0     0   \n",
       "448       1    1 -0.585539        1        0        0     4     3     3   \n",
       "934       0    0  0.220929        0        0        0     1     0     0   \n",
       "582       1    1  1.833865        0        1        1     1     4     0   \n",
       "..      ...  ...       ...      ...      ...      ...   ...   ...   ...   \n",
       "87        0    1 -1.392007        0        0        0     2     0     0   \n",
       "330       0    1  1.027397        0        0        0     1     0     0   \n",
       "466       1    0 -1.392007        0        0        0     1     0     1   \n",
       "121       0    0 -1.392007        0        0        0     2     1     1   \n",
       "860       0    0  0.220929        0        1        0     4     1     0   \n",
       "\n",
       "     reason  ...  nursery  internet  romantic  freetime  Dalc  Walc  health  \\\n",
       "447       0  ...        1         0         1         5     5     5       3   \n",
       "694       1  ...        1         1         1         2     1     1       5   \n",
       "448       1  ...        1         1         1         2     1     1       4   \n",
       "934       2  ...        0         1         0         3     1     2       4   \n",
       "582       1  ...        1         0         0         4     1     1       5   \n",
       "..      ...  ...      ...       ...       ...       ...   ...   ...     ...   \n",
       "87        2  ...        1         1         0         3     1     3       1   \n",
       "330       2  ...        1         1         1         3     1     1       5   \n",
       "466       3  ...        1         0         0         2     1     3       4   \n",
       "121       3  ...        1         1         0         5     1     2       5   \n",
       "860       3  ...        1         1         1         3     4     5       3   \n",
       "\n",
       "     absences        G1        G2  \n",
       "447  0.574094 -1.077163 -0.379343  \n",
       "694  0.574094 -1.077163 -0.988158  \n",
       "448  0.252034  1.604347  1.447102  \n",
       "934 -0.392087  0.263592 -0.379343  \n",
       "582 -0.714147 -1.747540 -0.988158  \n",
       "..        ...       ...       ...  \n",
       "87  -0.070027  1.269158  1.142694  \n",
       "330  0.896154  0.263592  0.533879  \n",
       "466 -0.714147 -0.406786 -0.683750  \n",
       "121  0.252034  0.933969  0.533879  \n",
       "860  1.379245  0.263592  0.229472  \n",
       "\n",
       "[730 rows x 28 columns]"
      ]
     },
     "execution_count": 12,
     "metadata": {},
     "output_type": "execute_result"
    }
   ],
   "source": [
    "X_train"
   ]
  },
  {
   "cell_type": "markdown",
   "metadata": {},
   "source": [
    "В тренировочную выборку попадут 730 объектов"
   ]
  },
  {
   "cell_type": "markdown",
   "metadata": {},
   "source": [
    "Построим модель линейной регрессии:"
   ]
  },
  {
   "cell_type": "code",
   "execution_count": 13,
   "metadata": {
    "scrolled": true
   },
   "outputs": [
    {
     "name": "stdout",
     "output_type": "stream",
     "text": [
      "0.8354351069850131\n"
     ]
    }
   ],
   "source": [
    "model = LinearRegression().fit(X_train,Y_train)\n",
    "print (model.score(X_test,Y_test))"
   ]
  },
  {
   "cell_type": "markdown",
   "metadata": {},
   "source": [
    "R^2 = 0.8379346172905776"
   ]
  },
  {
   "cell_type": "code",
   "execution_count": 14,
   "metadata": {},
   "outputs": [
    {
     "name": "stdout",
     "output_type": "stream",
     "text": [
      "intercept: 0.16987376643217875\n",
      "slope: [ 0.02563716  0.01169818 -0.01950017 -0.01566681 -0.01634197  0.0074082\n",
      " -0.01024713  0.0065342  -0.00298944 -0.02094183 -0.05491112  0.04814894\n",
      " -0.01929104 -0.11166943  0.07740339  0.04593801 -0.07089452 -0.03005844\n",
      " -0.00711277 -0.00707154 -0.03755929 -0.00923924 -0.01344943  0.00997318\n",
      " -0.00732745  0.05021778  0.12701637  0.7973484 ]\n"
     ]
    }
   ],
   "source": [
    "print('intercept:', model.intercept_)\n",
    "print('slope:', model.coef_)"
   ]
  },
  {
   "cell_type": "code",
   "execution_count": 15,
   "metadata": {},
   "outputs": [
    {
     "name": "stdout",
     "output_type": "stream",
     "text": [
      "G3 =  0.16987376643217875 +\n",
      "0.02563716033429331 * school +\n",
      "0.01169817521405268 * sex +\n",
      "-0.019500166793284434 * age +\n",
      "-0.015666814055066567 * address +\n",
      "-0.016341973485239178 * famsize +\n",
      "0.007408199119350586 * Pstatus +\n",
      "-0.010247132598149907 * Fedu +\n",
      "0.006534203835179059 * Mjob +\n",
      "-0.002989437286947814 * Fjob +\n",
      "-0.020941826441747944 * reason +\n",
      "-0.0549111209231241 * guardian +\n",
      "0.04814894291335772 * traveltime +\n",
      "-0.019291040061392817 * studytime +\n",
      "-0.11166943202709809 * failures +\n",
      "0.0774033856006938 * schoolsup +\n",
      "0.045938010732101374 * famsup +\n",
      "-0.07089451684886684 * paid +\n",
      "-0.03005844014350527 * activities +\n",
      "-0.00711277454691548 * nursery +\n",
      "-0.007071539538965607 * internet +\n",
      "-0.03755928669946984 * romantic +\n",
      "-0.009239242193155701 * freetime +\n",
      "-0.01344942615766682 * Dalc +\n",
      "0.00997318440366965 * Walc +\n",
      "-0.007327450384538271 * health +\n",
      "0.050217781870780465 * absences +\n",
      "0.12701636592953505 * G1 +\n",
      "0.7973484032613066 * G2\n"
     ]
    }
   ],
   "source": [
    "print('G3 = ', model.intercept_,'+') \n",
    "for i in range(len(train.columns)-1):\n",
    "    print(model.coef_[i],'*',train.columns[i],'+')\n",
    "print(model.coef_[len(train.columns)-1],'*',train.columns[len(train.columns)-1])    "
   ]
  },
  {
   "cell_type": "markdown",
   "metadata": {},
   "source": [
    "# 2. Насколько сильно влияет употребление алкоголя"
   ]
  },
  {
   "cell_type": "markdown",
   "metadata": {},
   "source": [
    "Чтобы выявить, насколько сильно употребление алкоголя влияет на итоговый бал учащегося, построим линейную регрессию G3(итоговый бал) на параметры Dalc(употребление алкоголя в будний день) и Walc(употребление алкоголя в выходные дни)"
   ]
  },
  {
   "cell_type": "code",
   "execution_count": 16,
   "metadata": {},
   "outputs": [],
   "source": [
    "Alc_Data = Data.loc[:, Data.columns.isin(['Dalc','Walc'])]\n",
    "data  = Data.loc[:, Data.columns.isin(['G3'])]"
   ]
  },
  {
   "cell_type": "code",
   "execution_count": 17,
   "metadata": {},
   "outputs": [
    {
     "name": "stdout",
     "output_type": "stream",
     "text": [
      "0.018754503525254318\n"
     ]
    }
   ],
   "source": [
    "model_Alc =  LinearRegression().fit(Alc_Data,Data2)\n",
    "print(model_Alc.score(Alc_Data, Data2))"
   ]
  },
  {
   "cell_type": "markdown",
   "metadata": {},
   "source": [
    "R^2 = 0.018754503525254318"
   ]
  },
  {
   "cell_type": "code",
   "execution_count": 18,
   "metadata": {},
   "outputs": [
    {
     "name": "stdout",
     "output_type": "stream",
     "text": [
      "intercept: 0.25492506596432607\n",
      "slope: [-0.1031551  -0.04411732]\n"
     ]
    }
   ],
   "source": [
    "print('intercept:', model_Alc.intercept_)\n",
    "print('slope:', model_Alc.coef_)"
   ]
  },
  {
   "cell_type": "code",
   "execution_count": 19,
   "metadata": {},
   "outputs": [
    {
     "name": "stdout",
     "output_type": "stream",
     "text": [
      "G3 =  0.25492506596432607 +\n",
      "-0.10315510322966899 * Dalc +\n",
      "-0.044117319844223485 * Walc\n"
     ]
    }
   ],
   "source": [
    "print('G3 = ', model_Alc.intercept_,'+') \n",
    "for i in range(len(Alc_Data.columns)-1):\n",
    "    print(model_Alc.coef_[i],'*',Alc_Data.columns[i],'+')\n",
    "print(model_Alc.coef_[len(Alc_Data.columns)-1],'*',Alc_Data.columns[len(Alc_Data.columns)-1]) "
   ]
  },
  {
   "cell_type": "markdown",
   "metadata": {},
   "source": [
    "Как видно из данной модели, употребление алкоголя негативно сказывается на итоговом бале учащегося, причем употребление алкоголя в будние дни сильнее влияет на итоговую оценку, чем употребление в алкоголя в выходные дни"
   ]
  },
  {
   "cell_type": "markdown",
   "metadata": {},
   "source": [
    "# 3. Какие параметры вносят наибольший вклад в предсказание"
   ]
  },
  {
   "cell_type": "markdown",
   "metadata": {},
   "source": [
    "Хоть потребление алкоголя и негативно сказывается на итоговом бале учащегося, но коэффициенты перед параметрами Dalc(употребление алкоголя в будний день) и Walc(употребление алкоголя в выходные дни) довольно маленькие. Таким образом, эти параметры не вносят наибольший вклад в предсказание результата итоговой оценки."
   ]
  },
  {
   "cell_type": "markdown",
   "metadata": {},
   "source": [
    "Вычислим среднее, максимальное и минимальное значение среди коэффициентов модели:"
   ]
  },
  {
   "cell_type": "code",
   "execution_count": 20,
   "metadata": {},
   "outputs": [
    {
     "name": "stdout",
     "output_type": "stream",
     "text": [
      "Среднее значение =  0.026894721179613775\n",
      "Максимальное значение =  0.7973484032613066\n",
      "Минимальное значение =  -0.11166943202709809\n"
     ]
    }
   ],
   "source": [
    "middle = model.coef_.mean()\n",
    "print(\"Среднее значение = \",middle)\n",
    "max = model.coef_.max()\n",
    "print(\"Максимальное значение = \",max)\n",
    "min = model.coef_.min()\n",
    "print(\"Минимальное значение = \",min)\n",
    "\n"
   ]
  },
  {
   "cell_type": "markdown",
   "metadata": {},
   "source": [
    "Найдем параметры вносят наибольший вклад в предсказание:"
   ]
  },
  {
   "cell_type": "code",
   "execution_count": 21,
   "metadata": {},
   "outputs": [
    {
     "name": "stdout",
     "output_type": "stream",
     "text": [
      "guardian = -0.0549111209231241\n",
      "traveltime = 0.04814894291335772\n",
      "failures = -0.11166943202709809\n",
      "schoolsup = 0.0774033856006938\n",
      "famsup = 0.045938010732101374\n",
      "paid = -0.07089451684886684\n",
      "activities = -0.03005844014350527\n",
      "romantic = -0.03755928669946984\n",
      "absences = 0.050217781870780465\n",
      "G1 = 0.12701636592953505\n",
      "G2 = 0.7973484032613066\n"
     ]
    }
   ],
   "source": [
    "vail = model.coef_[0].mean()\n",
    "for i in range(len(train.columns)):\n",
    "    if abs(model.coef_[i].max()) > vail:\n",
    "        print(train.columns[i],\"=\",model.coef_[i].max())\n",
    "        \n"
   ]
  },
  {
   "cell_type": "markdown",
   "metadata": {},
   "source": [
    "Найдем параметры, который вносят далеко не основной вклад в предсказание результата итоговой оценки.:"
   ]
  },
  {
   "cell_type": "code",
   "execution_count": 22,
   "metadata": {},
   "outputs": [
    {
     "name": "stdout",
     "output_type": "stream",
     "text": [
      "sex = 0.01169817521405268\n",
      "age = -0.019500166793284434\n",
      "address = -0.015666814055066567\n",
      "famsize = -0.016341973485239178\n",
      "Pstatus = 0.007408199119350586\n",
      "Fedu = -0.010247132598149907\n",
      "Mjob = 0.006534203835179059\n",
      "Fjob = -0.002989437286947814\n",
      "reason = -0.020941826441747944\n",
      "studytime = -0.019291040061392817\n",
      "nursery = -0.00711277454691548\n",
      "internet = -0.007071539538965607\n",
      "freetime = -0.009239242193155701\n",
      "Dalc = -0.01344942615766682\n",
      "Walc = 0.00997318440366965\n",
      "health = -0.007327450384538271\n"
     ]
    }
   ],
   "source": [
    "vail = model.coef_[0].max()\n",
    "for i in range(len(train.columns)):\n",
    "    if abs(model.coef_[i].max()) < vail:\n",
    "        print(train.columns[i],\"=\",model.coef_[i].max())\n",
    "        "
   ]
  },
  {
   "cell_type": "markdown",
   "metadata": {},
   "source": [
    "# 4. Построить графики статистической оценки параметров"
   ]
  },
  {
   "cell_type": "markdown",
   "metadata": {},
   "source": [
    "Выведем статистику модели в виде таблицы:"
   ]
  },
  {
   "cell_type": "code",
   "execution_count": 23,
   "metadata": {},
   "outputs": [
    {
     "name": "stdout",
     "output_type": "stream",
     "text": [
      "                                 OLS Regression Results                                \n",
      "=======================================================================================\n",
      "Dep. Variable:                     G3   R-squared (uncentered):                   0.840\n",
      "Model:                            OLS   Adj. R-squared (uncentered):              0.835\n",
      "Method:                 Least Squares   F-statistic:                              190.1\n",
      "Date:                Fri, 04 Jun 2021   Prob (F-statistic):                        0.00\n",
      "Time:                        23:51:26   Log-Likelihood:                         -525.21\n",
      "No. Observations:                1044   AIC:                                      1106.\n",
      "Df Residuals:                    1016   BIC:                                      1245.\n",
      "Df Model:                          28                                                  \n",
      "Covariance Type:            nonrobust                                                  \n",
      "==============================================================================\n",
      "                 coef    std err          t      P>|t|      [0.025      0.975]\n",
      "------------------------------------------------------------------------------\n",
      "school         0.0306      0.034      0.901      0.368      -0.036       0.097\n",
      "sex            0.0057      0.028      0.203      0.839      -0.049       0.060\n",
      "age           -0.0113      0.014     -0.779      0.436      -0.040       0.017\n",
      "address       -0.0275      0.032     -0.864      0.388      -0.090       0.035\n",
      "famsize        0.0040      0.029      0.139      0.889      -0.053       0.061\n",
      "Pstatus        0.0524      0.042      1.257      0.209      -0.029       0.134\n",
      "Fedu          -0.0115      0.013     -0.922      0.357      -0.036       0.013\n",
      "Mjob           0.0046      0.008      0.547      0.584      -0.012       0.021\n",
      "Fjob           0.0022      0.012      0.192      0.847      -0.021       0.025\n",
      "reason        -0.0086      0.013     -0.657      0.511      -0.034       0.017\n",
      "guardian      -0.0213      0.025     -0.855      0.393      -0.070       0.028\n",
      "traveltime     0.0382      0.018      2.127      0.034       0.003       0.073\n",
      "studytime     -0.0042      0.016     -0.269      0.788      -0.035       0.027\n",
      "failures      -0.0706      0.022     -3.229      0.001      -0.113      -0.028\n",
      "schoolsup      0.0249      0.042      0.587      0.557      -0.058       0.108\n",
      "famsup         0.0525      0.027      1.916      0.056      -0.001       0.106\n",
      "paid          -0.0887      0.032     -2.754      0.006      -0.152      -0.026\n",
      "activities    -0.0268      0.026     -1.028      0.304      -0.078       0.024\n",
      "nursery       -0.0205      0.031     -0.652      0.515      -0.082       0.041\n",
      "internet       0.0108      0.032      0.334      0.739      -0.053       0.074\n",
      "romantic      -0.0294      0.027     -1.072      0.284      -0.083       0.024\n",
      "freetime       0.0058      0.012      0.498      0.619      -0.017       0.029\n",
      "Dalc          -0.0187      0.018     -1.023      0.306      -0.055       0.017\n",
      "Walc           0.0126      0.013      0.961      0.337      -0.013       0.038\n",
      "health         0.0030      0.009      0.350      0.726      -0.014       0.020\n",
      "absences       0.0465      0.014      3.427      0.001       0.020       0.073\n",
      "G1             0.1026      0.025      4.025      0.000       0.053       0.153\n",
      "G2             0.8168      0.025     32.614      0.000       0.768       0.866\n",
      "==============================================================================\n",
      "Omnibus:                      661.814   Durbin-Watson:                   1.800\n",
      "Prob(Omnibus):                  0.000   Jarque-Bera (JB):             8158.941\n",
      "Skew:                          -2.752   Prob(JB):                         0.00\n",
      "Kurtosis:                      15.540   Cond. No.                         25.7\n",
      "==============================================================================\n",
      "\n",
      "Warnings:\n",
      "[1] Standard Errors assume that the covariance matrix of the errors is correctly specified.\n"
     ]
    }
   ],
   "source": [
    "ols = statsmodels.api.OLS(data, train)\n",
    "res = ols.fit()\n",
    "print(res.summary())"
   ]
  },
  {
   "cell_type": "markdown",
   "metadata": {},
   "source": [
    "Построим диаграммы:"
   ]
  },
  {
   "cell_type": "code",
   "execution_count": 29,
   "metadata": {},
   "outputs": [
    {
     "name": "stderr",
     "output_type": "stream",
     "text": [
      "<ipython-input-29-1b91853e13f1>:7: MatplotlibDeprecationWarning: Adding an axes using the same arguments as a previous axes currently reuses the earlier instance.  In a future version, a new instance will always be created and returned.  Meanwhile, this warning can be suppressed, and the future behavior ensured, by passing a unique label to each axes instance.\n",
      "  ax = matplotlib.pyplot.axes()\n",
      "No handles with labels found to put in legend.\n"
     ]
    },
    {
     "data": {
      "image/png": "[encoded data removed]",
      "text/plain": [
       "<Figure size 512x384 with 1 Axes>"
      ]
     },
     "metadata": {
      "needs_background": "light"
     },
     "output_type": "display_data"
    }
   ],
   "source": [
    "dpi = 80\n",
    "fig = matplotlib.pyplot.figure(dpi = dpi, figsize = (512 / dpi, 384 / dpi) )\n",
    "matplotlib.pyplot.rcParams.update({'font.size': 9})\n",
    "\n",
    "matplotlib.pyplot.title('Коэффициент')\n",
    "\n",
    "ax = matplotlib.pyplot.axes()\n",
    "ax.xaxis.grid(True, zorder = 1)\n",
    "\n",
    "xs = range(len(train.columns))\n",
    "\n",
    "matplotlib.pyplot.barh([x + 0.3 for x in xs], [ d * 0.9 for d in  res.params],\n",
    "         height = 0.2, color = 'red', alpha = 0.7,\n",
    "         zorder = 2)\n",
    "\n",
    "matplotlib.pyplot.yticks(xs, train.columns, rotation = 10)\n",
    "\n",
    "matplotlib.pyplot.legend(loc='upper right')\n",
    "fig.savefig('barshoris.png')"
   ]
  },
  {
   "cell_type": "code",
   "execution_count": 30,
   "metadata": {},
   "outputs": [
    {
     "name": "stderr",
     "output_type": "stream",
     "text": [
      "<ipython-input-30-e1f0e66c5710>:7: MatplotlibDeprecationWarning: Adding an axes using the same arguments as a previous axes currently reuses the earlier instance.  In a future version, a new instance will always be created and returned.  Meanwhile, this warning can be suppressed, and the future behavior ensured, by passing a unique label to each axes instance.\n",
      "  ax = matplotlib.pyplot.axes()\n",
      "No handles with labels found to put in legend.\n"
     ]
    },
    {
     "data": {
      "image/png": "[encoded data removed]",
      "text/plain": [
       "<Figure size 512x384 with 1 Axes>"
      ]
     },
     "metadata": {
      "needs_background": "light"
     },
     "output_type": "display_data"
    }
   ],
   "source": [
    "dpi = 80\n",
    "fig = matplotlib.pyplot.figure(dpi = dpi, figsize = (512 / dpi, 384 / dpi) )\n",
    "matplotlib.pyplot.rcParams.update({'font.size': 9})\n",
    "\n",
    "matplotlib.pyplot.title('Стандартная ошибка')\n",
    "\n",
    "ax = matplotlib.pyplot.axes()\n",
    "ax.xaxis.grid(True, zorder = 1)\n",
    "\n",
    "xs = range(len(train.columns))\n",
    "\n",
    "matplotlib.pyplot.barh([x + 0.3 for x in xs], [ d * 0.9 for d in  res.bse],\n",
    "         height = 0.2, color = 'red', alpha = 0.7,\n",
    "         zorder = 2)\n",
    "\n",
    "matplotlib.pyplot.yticks(xs, train.columns, rotation = 10)\n",
    "\n",
    "matplotlib.pyplot.legend(loc='upper right')\n",
    "fig.savefig('barshoris.png')"
   ]
  },
  {
   "cell_type": "code",
   "execution_count": 32,
   "metadata": {},
   "outputs": [
    {
     "name": "stderr",
     "output_type": "stream",
     "text": [
      "<ipython-input-32-0699bb6325e8>:7: MatplotlibDeprecationWarning: Adding an axes using the same arguments as a previous axes currently reuses the earlier instance.  In a future version, a new instance will always be created and returned.  Meanwhile, this warning can be suppressed, and the future behavior ensured, by passing a unique label to each axes instance.\n",
      "  ax = matplotlib.pyplot.axes()\n",
      "No handles with labels found to put in legend.\n"
     ]
    },
    {
     "data": {
      "image/png": "[encoded data removed]",
      "text/plain": [
       "<Figure size 512x384 with 1 Axes>"
      ]
     },
     "metadata": {
      "needs_background": "light"
     },
     "output_type": "display_data"
    }
   ],
   "source": [
    "dpi = 80\n",
    "fig = matplotlib.pyplot.figure(dpi = dpi, figsize = (512 / dpi, 384 / dpi) )\n",
    "matplotlib.pyplot.rcParams.update({'font.size': 9})\n",
    "\n",
    "matplotlib.pyplot.title(' t - Статистика')\n",
    "\n",
    "ax = matplotlib.pyplot.axes()\n",
    "ax.xaxis.grid(True, zorder = 1)\n",
    "\n",
    "xs = range(len(train.columns))\n",
    "\n",
    "matplotlib.pyplot.barh([x + 0.3 for x in xs], [ d * 0.9 for d in  res.tvalues],\n",
    "         height = 0.2, color = 'red', alpha = 0.7,\n",
    "         zorder = 2)\n",
    "\n",
    "matplotlib.pyplot.yticks(xs, train.columns, rotation = 10)\n",
    "\n",
    "matplotlib.pyplot.legend(loc='upper right')\n",
    "fig.savefig('barshoris.png')"
   ]
  },
  {
   "cell_type": "code",
   "execution_count": 33,
   "metadata": {},
   "outputs": [
    {
     "name": "stderr",
     "output_type": "stream",
     "text": [
      "<ipython-input-33-f9b84ef96143>:7: MatplotlibDeprecationWarning: Adding an axes using the same arguments as a previous axes currently reuses the earlier instance.  In a future version, a new instance will always be created and returned.  Meanwhile, this warning can be suppressed, and the future behavior ensured, by passing a unique label to each axes instance.\n",
      "  ax = matplotlib.pyplot.axes()\n",
      "No handles with labels found to put in legend.\n"
     ]
    },
    {
     "data": {
      "image/png": "[encoded data removed]",
      "text/plain": [
       "<Figure size 512x384 with 1 Axes>"
      ]
     },
     "metadata": {
      "needs_background": "light"
     },
     "output_type": "display_data"
    }
   ],
   "source": [
    "dpi = 80\n",
    "fig = matplotlib.pyplot.figure(dpi = dpi, figsize = (512 / dpi, 384 / dpi) )\n",
    "matplotlib.pyplot.rcParams.update({'font.size': 9})\n",
    "\n",
    "matplotlib.pyplot.title(' p - значение')\n",
    "\n",
    "ax = matplotlib.pyplot.axes()\n",
    "ax.xaxis.grid(True, zorder = 1)\n",
    "\n",
    "xs = range(len(train.columns))\n",
    "\n",
    "matplotlib.pyplot.barh([x + 0.3 for x in xs], [ d * 0.9 for d in  res.pvalues],\n",
    "         height = 0.2, color = 'red', alpha = 0.7,\n",
    "         zorder = 2)\n",
    "\n",
    "matplotlib.pyplot.yticks(xs, train.columns, rotation = 10)\n",
    "\n",
    "matplotlib.pyplot.legend(loc='upper right')\n",
    "fig.savefig('barshoris.png')"
   ]
  },
  {
   "cell_type": "markdown",
   "metadata": {},
   "source": [
    "# 5. Применить алгоритмы кластеризации"
   ]
  },
  {
   "cell_type": "code",
   "execution_count": 34,
   "metadata": {},
   "outputs": [
    {
     "name": "stdout",
     "output_type": "stream",
     "text": [
      "{0, 1, 2, 3, 4, 5, 6, 7, 8, 9, 10, 11, 12, 13, -1}\n"
     ]
    }
   ],
   "source": [
    "dbscan = DBSCAN(eps=3.14, min_samples=2.5)\n",
    "\n",
    "dbscan.fit(X_train)\n",
    "pca = PCA(n_components=2).fit(X_train)\n",
    "pca_2d = pca.transform(X_train)\n",
    "print(set(dbscan.labels_))"
   ]
  },
  {
   "cell_type": "code",
   "execution_count": 37,
   "metadata": {},
   "outputs": [
    {
     "data": {
      "image/png": "[encoded data removed]",
      "text/plain": [
       "<Figure size 720x360 with 1 Axes>"
      ]
     },
     "metadata": {
      "needs_background": "light"
     },
     "output_type": "display_data"
    }
   ],
   "source": [
    "matplotlib.pyplot.figure(figsize=(10, 5))\n",
    "colors = matplotlib.cm .rainbow(numpy.linspace(0, 1, len(set(dbscan.labels_))))\n",
    "for i in range(0, pca_2d.shape[0]):\n",
    "    if dbscan.labels_[i] == -1:\n",
    "        c0 = matplotlib.pyplot.scatter(pca_2d[i, 0], pca_2d[i, 1], c = 'grey', marker='*')\n",
    "    else:\n",
    "        matplotlib.pyplot.scatter(pca_2d[i, 0], pca_2d[i, 1], c = [colors[dbscan.labels_[i]]], marker='o')\n",
    "matplotlib.pyplot.title('результат работы DBSCAN')\n",
    "matplotlib.pyplot.show()"
   ]
  },
  {
   "cell_type": "markdown",
   "metadata": {},
   "source": [
    "Как видно из графика, у данной модели нет явных кластеров"
   ]
  },
  {
   "cell_type": "markdown",
   "metadata": {},
   "source": [
    "# 6. Что общего между объектами в каждом кластере"
   ]
  },
  {
   "cell_type": "markdown",
   "metadata": {},
   "source": [
    "Ответ: Нельзя найти общие признаки у кластеров, так как кластеров нет"
   ]
  }
 ],
 "metadata": {
  "kernelspec": {
   "display_name": "Python 3",
   "language": "python",
   "name": "python3"
  },
  "language_info": {
   "codemirror_mode": {
    "name": "ipython",
    "version": 3
   },
   "file_extension": ".py",
   "mimetype": "text/x-python",
   "name": "python",
   "nbconvert_exporter": "python",
   "pygments_lexer": "ipython3",
   "version": "3.8.3"
  }
 },
 "nbformat": 4,
 "nbformat_minor": 4
}
